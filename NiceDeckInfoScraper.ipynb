{
 "cells": [
  {
   "cell_type": "code",
   "execution_count": 1,
   "metadata": {},
   "outputs": [],
   "source": [
    "import psycopg2\n",
    "\n",
    "from itertools import chain\n",
    "import numpy as np\n",
    "import pandas as pd\n",
    "import bs4\n",
    "from bs4 import BeautifulSoup\n",
    "import requests \n",
    "from datetime import datetime, timedelta\n",
    "import re\n",
    "import pytz"
   ]
  },
  {
   "cell_type": "code",
   "execution_count": 2,
   "metadata": {},
   "outputs": [],
   "source": [
    "\n",
    "conn = psycopg2.connect(host=redacted, user=re,\n",
    "                        password=redacted, database=redacted)"
   ]
  },
  {
   "cell_type": "code",
   "execution_count": 3,
   "metadata": {},
   "outputs": [],
   "source": [
    "datedict={}\n",
    "\n",
    "headers = requests.utils.default_headers()\n",
    "headers.update({\n",
    "    'User-Agent': 'Mozilla/5.0 (X11; Ubuntu; Linux x86_64; rv:52.0) Gecko/20100101 Firefox/52.0',\n",
    "})\n",
    "\n",
    "utc_now = pytz.utc.localize(datetime.utcnow())\n",
    "pst_now = utc_now.astimezone(pytz.timezone(\"America/Los_Angeles\"))\n",
    "yesterday=pst_now - timedelta(1)\n",
    "\n",
    "yesteryear=str(yesterday.year)\n",
    "\n",
    "yesday=str(yesterday.day)\n",
    "\n",
    "yestermonth=str(yesterday.month)\n",
    "    \n",
    "\n",
    "url=requests.get('''https://www.mtggoldfish.com/tournament_searches/create?commit=Search&page='''+str(1)+'''&tournament_search%5Bdate_range%5D='''+yestermonth+'''%2F'''+yesday+'''%2F'''+yesteryear+'''+-+'''+yestermonth+'''%2F'''+yesday+'''%2F'''+yesteryear+'''&tournament_search%5Bformat%5D=pioneer&tournament_search%5Bname%5D=&utf8=%E2%9C%93''')\n",
    "#url=requests.get('''https://www.mtggoldfish.com/tournament_searches/create?commit=Search&page='''+str(1)+'''&tournament_search%5Bdate_range%5D='''+yestermonth+'''%2F'''+str(28)+'''%2F'''+yesteryear+'''+-+'''+yestermonth+'''%2F'''+yesday+'''%2F'''+yesteryear+'''&tournament_search%5Bformat%5D=pioneer&tournament_search%5Bname%5D=&utf8=%E2%9C%93''')\n",
    "\n",
    "\n",
    "rawtext=BeautifulSoup(url.text,'html.parser')\n",
    "\n",
    "table=rawtext.find_all('tr')\n",
    "\n",
    "for entry in table[1:]:\n",
    "\n",
    "\n",
    "    linktocards = entry.find('a').get('href')\n",
    "    entrydate = str(entry.find('td').contents[0])\n",
    "    tourntitle = str(entry.find('a').contents[0])\n",
    "\n",
    "    if entrydate not in datedict.keys():\n",
    "        datedict[entrydate]={}\n",
    "\n",
    "    if tourntitle not in datedict[entrydate].keys():\n",
    "        datedict[entrydate][tourntitle]={}\n",
    "\n",
    "    decklisturl=requests.get('https://www.mtggoldfish.com/'+str(linktocards))\n",
    "    decktext=BeautifulSoup(decklisturl.text,'html.parser')\n",
    "\n",
    "    deckstuff = decktext.find('table',attrs={'class':'table table-condensed table-bordered table-tournament'})\n",
    "    if deckstuff==None:\n",
    "        pass\n",
    "    else:\n",
    "        decklinks = deckstuff.find_all('a')\n",
    "\n",
    "        for deck in decklinks:\n",
    "            if str(deck.get('href')).lower().find('/deck/')!=-1:\n",
    "                cardurl = requests.get('https://www.mtggoldfish.com'+str(deck.get('href')))\n",
    "                cardtext = BeautifulSoup(cardurl.text,'html.parser')\n",
    "                cardquantsarr=cardtext.find_all('td',attrs={'class':'deck-col-qty'})\n",
    "                cardquantsarr=[int(quant.getText()) for quant in cardquantsarr]\n",
    "                cardnamesintermed=[card for card in cardtext.find_all('td',attrs={'class':'deck-col-card'})]\n",
    "                allcardnames = [cardinfo.find_all('a')[0].contents[0] for cardinfo in cardnamesintermed if len(cardinfo.find_all('a'))>0 and len(cardinfo.find_all('a')[0].contents)>0]\n",
    "                cardandquant=zip(allcardnames,cardquantsarr)\n",
    "\n",
    "                for cardnames,cardquants in cardandquant:\n",
    "                    if cardnames in datedict[entrydate][tourntitle].keys():\n",
    "                        datedict[entrydate][tourntitle][cardnames]+=cardquants\n",
    "                    else:\n",
    "                        datedict[entrydate][tourntitle][cardnames]=cardquants\n",
    "\n",
    "\n",
    "\n",
    "\n"
   ]
  },
  {
   "cell_type": "code",
   "execution_count": 4,
   "metadata": {},
   "outputs": [],
   "source": [
    "# cur=conn.cursor()\n",
    "\n",
    "# cur.execute('''CREATE TABLE tourninfo (id SERIAL PRIMARY KEY, cardname TEXT,entrydate TEXT,cardquant INT,tourntitle TEXT)''')\n",
    "\n",
    "# conn.commit()"
   ]
  },
  {
   "cell_type": "code",
   "execution_count": 5,
   "metadata": {},
   "outputs": [],
   "source": [
    "cur=conn.cursor()\n",
    "\n",
    "for datekeys in datedict.keys():\n",
    "    for tournkeys in datedict[datekeys].keys():\n",
    "        for dictcards,dictquants in datedict[datekeys][tournkeys].items():\n",
    "            cur.execute('''INSERT INTO tourninfo (cardname,entrydate,cardquant,tourntitle) VALUES (%s,%s,%s,%s)''',(dictcards,datekeys,dictquants,tournkeys))\n",
    "            conn.commit()"
   ]
  },
  {
   "cell_type": "code",
   "execution_count": 6,
   "metadata": {},
   "outputs": [],
   "source": [
    "cur.close()\n",
    "conn.close()"
   ]
  }
 ],
 "metadata": {
  "kernelspec": {
   "display_name": "Python 3",
   "language": "python",
   "name": "python3"
  },
  "language_info": {
   "codemirror_mode": {
    "name": "ipython",
    "version": 3
   },
   "file_extension": ".py",
   "mimetype": "text/x-python",
   "name": "python",
   "nbconvert_exporter": "python",
   "pygments_lexer": "ipython3",
   "version": "3.7.1"
  }
 },
 "nbformat": 4,
 "nbformat_minor": 2
}
