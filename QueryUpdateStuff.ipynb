{
 "cells": [
  {
   "cell_type": "code",
   "execution_count": 1,
   "metadata": {},
   "outputs": [],
   "source": [
    "import psycopg2\n",
    "\n",
    "from itertools import chain\n",
    "import numpy as np\n",
    "import pandas as pd\n",
    "import bs4\n",
    "from bs4 import BeautifulSoup\n",
    "import requests \n",
    "from datetime import datetime, timedelta\n",
    "import re\n",
    "import pytz"
   ]
  },
  {
   "cell_type": "code",
   "execution_count": 2,
   "metadata": {},
   "outputs": [],
   "source": [
    "conn = psycopg2.connect()"
   ]
  },
  {
   "cell_type": "code",
   "execution_count": 3,
   "metadata": {},
   "outputs": [],
   "source": [
    "cur=conn.cursor()"
   ]
  },
  {
   "cell_type": "code",
   "execution_count": 4,
   "metadata": {},
   "outputs": [],
   "source": [
    "cur.execute('''SELECT name FROM public.cards WHERE rarity IN('mythic','rare') AND setcode IN(SELECT code FROM public.sets WHERE type IN ('expansion','core') and releasedate>=(SELECT releasedate FROM public.sets WHERE mcmname='Return to Ravnica'))''')\n"
   ]
  },
  {
   "cell_type": "code",
   "execution_count": 5,
   "metadata": {},
   "outputs": [],
   "source": [
    "rows=cur.fetchall()\n",
    "rows=set(rows)"
   ]
  },
  {
   "cell_type": "code",
   "execution_count": 6,
   "metadata": {},
   "outputs": [
    {
     "data": {
      "text/plain": [
       "str"
      ]
     },
     "execution_count": 6,
     "metadata": {},
     "output_type": "execute_result"
    }
   ],
   "source": [
    "type((datetime.now() - timedelta(1)).strftime('%Y-%m-%d'))"
   ]
  },
  {
   "cell_type": "code",
   "execution_count": 7,
   "metadata": {},
   "outputs": [],
   "source": [
    "cardraritys=cur.fetchall()\n",
    "cardraritys=set(cardraritys)"
   ]
  },
  {
   "cell_type": "code",
   "execution_count": 8,
   "metadata": {},
   "outputs": [
    {
     "name": "stdout",
     "output_type": "stream",
     "text": [
      "2020-02-12 08:50:54.394624-08:00\n",
      "<class 'datetime.datetime'>\n"
     ]
    }
   ],
   "source": [
    "headers = requests.utils.default_headers()\n",
    "headers.update({\n",
    "    'User-Agent': 'Mozilla/5.0 (X11; Ubuntu; Linux x86_64; rv:52.0) Gecko/20100101 Firefox/52.0',\n",
    "})\n",
    "\n",
    "xfun=lambda x:\"x\"+str(x)\n",
    "funx=lambda x:str(x)+\"x\"\n",
    "xspacefun=lambda x:\"x \"+str(x)\n",
    "funspacex=lambda x:str(x)+\" x\"\n",
    "\n",
    "titlequantities=list(chain.from_iterable((xfun(x), funx(x), xspacefun(x), funspacex(x)) for x in range(1,11))) #all lowercase\n",
    "#remember to add 1 x and x 1 to title quantities\n",
    "titlekeywords=[\"promo\",\"expedition\",\"invocation\",\"invention\",\"extended art\"]#altered art?\n",
    "titlelanguages=['english','korean','japanese','chinese','russian','spanish']\n",
    "titleconditions=['NM','LP','MP','HP','Mint','Lightly Played','Moderately Played','Heavily Played']\n",
    "\n",
    "utc_now = pytz.utc.localize(datetime.utcnow())\n",
    "pst_now = utc_now.astimezone(pytz.timezone(\"America/Los_Angeles\"))\n",
    "yesterday=pst_now - timedelta(1)\n",
    "\n",
    "print(yesterday)\n",
    "print(type(yesterday))\n",
    "\n",
    "for cardname in rows:\n",
    "    if (cardname,'rare') in cardraritys:\n",
    "        rarity='rare'\n",
    "    else:\n",
    "        rarity='mythic'\n",
    "    \n",
    "    if cardname is None:\n",
    "        print(cardname+\"NONE\")\n",
    "    else:\n",
    "        cur.execute('''SELECT printings FROM public.cards WHERE name=%s''',(cardname))\n",
    "        cardprintings=cur.fetchall()\n",
    "        cardstring=cardprintings[0][0]\n",
    "        setlist=cardstring.split(\",\")\n",
    "        \n",
    "        url=requests.get('https://www.ebay.com/sch/i.html?_nkw='+cardname[0]+' mtg'+'&rt=nc&LH_Sold=1&LH_Complete=1&_ipg=200&_pgn=1')\n",
    "\n",
    "        rawtext=BeautifulSoup(url.text,'html.parser')\n",
    "        transactions=rawtext.find_all('div',attrs={\"class\":\"s-item__info clearfix\"})\n",
    "\n",
    "        \n",
    "\n",
    "        for transaction in transactions:\n",
    "\n",
    "            transactionsetcode=None\n",
    "            price=None\n",
    "            title=None\n",
    "            carddate=None\n",
    "            IsFoil=None\n",
    "            saletype=None\n",
    "            cardquantity=None\n",
    "            cardspecial=None\n",
    "            cardlanguage=None\n",
    "            cardcondition=None\n",
    "            shipping=None\n",
    "            possiblybad=False\n",
    "            isBanned=False\n",
    "                         \n",
    "            if len(transaction.find_all('span',attrs={\"class\":\"s-item__ended-date s-item__endedDate\"}))==0:\n",
    "                pass\n",
    "\n",
    "            else:\n",
    "                carddate=datetime.strptime(transaction.find_all('span',attrs={\"class\":\"s-item__ended-date s-item__endedDate\"})[0].string,'%b-%d %H:%M').date()\n",
    "\n",
    "#                 if carddate.month>3:\n",
    "#                     carddate=carddate.replace(year=2019)\n",
    "#                 else:\n",
    "                carddate=carddate.replace(year=2020)\n",
    "                    \n",
    "                if (yesterday).strftime('%Y-%m-%d')>str(carddate):\n",
    "                    break\n",
    "                         \n",
    "                elif (yesterday).strftime('%Y-%m-%d')==str(carddate):\n",
    "\n",
    "                    if transaction.find_all('h3',attrs={\"class\":\"s-item__title\"})[0].string==None or len(transaction.find_all('h3',attrs={\"class\":\"s-item__title\"}))==0:\n",
    "                        pass\n",
    "\n",
    "                    else:        \n",
    "                        title=transaction.find_all('h3',attrs={\"class\":\"s-item__title\"})[0].string\n",
    "                        \n",
    "                        for setcode in setlist:\n",
    "                            setcode=setcode.strip()\n",
    "                            if title.lower().find(setcode.lower())!=-1:\n",
    "                                transactionsetcode=setcode\n",
    "                                \n",
    "                                break\n",
    "                            else:\n",
    "                                cur.execute(\"\"\"SELECT name FROM public.sets WHERE code=%s\"\"\",[setcode])\n",
    "                                setname=cur.fetchall()\n",
    "                                if title.lower().find(setname[0][0].lower())!=-1:\n",
    "                                    transactionsetcode=setcode\n",
    "                                    \n",
    "                                    break\n",
    "\n",
    "                        if title.lower().find(cardname[0].lower())==-1:\n",
    "                            pass\n",
    "                        else:\n",
    "                            for quantity in titlequantities:\n",
    "                                if title.lower().find(quantity.lower())!=-1:\n",
    "                                    quant = re.findall(\"(\\d+)\", quantity)\n",
    "                                    cardquantity=quant[0]\n",
    "                                    break\n",
    "\n",
    "                            IsFoil=title.lower().find(\"foil\")!=-1\n",
    "\n",
    "                            for keyword in titlekeywords:\n",
    "                                if title.lower().find(keyword.lower())!=-1:\n",
    "                                    cardspecial=keyword\n",
    "                                    break\n",
    "\n",
    "                            for language in titlelanguages:\n",
    "                                if title.lower().find(language.lower())!=-1:\n",
    "                                    cardlanguage=language\n",
    "                                    break\n",
    "\n",
    "                            for condition in titleconditions:\n",
    "                                if title.lower().find(condition.lower())!=-1:\n",
    "                                    cardcondition=condition\n",
    "                                    break\n",
    "\n",
    "\n",
    "\n",
    "\n",
    "\n",
    "                            if len(transaction.find_all('span',attrs={\"class\":\"POSITIVE\"}))==0:\n",
    "                                possiblybad=True\n",
    "\n",
    "                            else:\n",
    "                                price=float(re.sub(r'[^\\d.]', '', transaction.find_all('span',attrs={\"class\":\"POSITIVE\"})[0].string))\n",
    "                                positiveprice=str(transaction.find_all('span',attrs={\"class\":\"POSITIVE\"})[0])\n",
    "\n",
    "                                if positiveprice.find('class=\"POSITIVE\"')!=-1:\n",
    "                                    saletype='normal'\n",
    "                                elif positiveprice.find('class=\"POSITIVE ITALIC\"')!=-1:\n",
    "                                    saletype='italic'\n",
    "                                else:\n",
    "                                    saletype='BO accepted'\n",
    "\n",
    "\n",
    "                            if len(transaction.find_all('span',attrs={\"class\":\"s-item__shipping s-item__logisticsCost\"}))==0:\n",
    "                                possiblybad=True\n",
    "\n",
    "                            elif re.sub(r'[^\\d.]', '', transaction.find_all('span',attrs={\"class\":\"s-item__shipping s-item__logisticsCost\"})[0].string)=='':\n",
    "                                pass\n",
    "                            else:\n",
    "                                shipping=float(re.sub(r'[^\\d.]', '', transaction.find_all('span',attrs={\"class\":\"s-item__shipping s-item__logisticsCost\"})[0].string))\n",
    "\n",
    "\n",
    "\n",
    "\n",
    "                            cur.execute('''INSERT INTO transactions (cardname,price,carddate,IsFoil,saletype,cardquantity,\n",
    "                            cardspecial,cardlanguage,cardcondition,title,possiblybad,isBanned,shipping,cardset,rarity) VALUES (%s,%s,%s,%s,%s,%s,%s,%s,%s,%s,%s,%s,%s,%s,%s)''',(cardname,price,carddate,IsFoil,saletype,cardquantity,cardspecial,cardlanguage,cardcondition,title,possiblybad,isBanned,shipping,transactionsetcode,rarity))\n",
    "                            #conn.commit() #place this so that it commits only when the transactions for a specific card are done\n",
    "                else:\n",
    "                    pass\n",
    "    conn.commit() #place this so that it commits only when the transactions for a specific card are done"
   ]
  },
  {
   "cell_type": "code",
   "execution_count": 9,
   "metadata": {},
   "outputs": [],
   "source": [
    "cur.close()\n",
    "conn.close()"
   ]
  }
 ],
 "metadata": {
  "kernelspec": {
   "display_name": "Python 3",
   "language": "python",
   "name": "python3"
  },
  "language_info": {
   "codemirror_mode": {
    "name": "ipython",
    "version": 3
   },
   "file_extension": ".py",
   "mimetype": "text/x-python",
   "name": "python",
   "nbconvert_exporter": "python",
   "pygments_lexer": "ipython3",
   "version": "3.7.1"
  }
 },
 "nbformat": 4,
 "nbformat_minor": 2
}
