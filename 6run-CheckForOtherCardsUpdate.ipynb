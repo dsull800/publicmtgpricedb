{
 "cells": [
  {
   "cell_type": "code",
   "execution_count": 1,
   "metadata": {},
   "outputs": [],
   "source": [
    "import psycopg2\n",
    "\n",
    "from itertools import chain\n",
    "import numpy as np\n",
    "import pandas as pd\n",
    "import bs4\n",
    "from bs4 import BeautifulSoup\n",
    "import requests \n",
    "from datetime import datetime, timedelta\n",
    "import re\n",
    "import pytz"
   ]
  },
  {
   "cell_type": "code",
   "execution_count": 3,
   "metadata": {},
   "outputs": [],
   "source": [
    "cur=conn.cursor()"
   ]
  },
  {
   "cell_type": "code",
   "execution_count": 4,
   "metadata": {},
   "outputs": [],
   "source": [
    "cur.execute(\"\"\"SELECT DISTINCT(name) FROM public.cards WHERE rarity IN('mythic','rare') AND setcode IN(SELECT code FROM public.sets WHERE type IN ('expansion','core') and releasedate>=(SELECT releasedate FROM public.sets WHERE mcmname='Return to Ravnica'))\"\"\")\n",
    "cardnames=cur.fetchall()\n",
    "\n",
    "utc_now = pytz.utc.localize(datetime.utcnow())\n",
    "pst_now = utc_now.astimezone(pytz.timezone(\"America/Los_Angeles\"))\n",
    "yesterday=pst_now - timedelta(1)"
   ]
  },
  {
   "cell_type": "code",
   "execution_count": 5,
   "metadata": {},
   "outputs": [],
   "source": [
    "#check for othercardnames in the name of the set, also remove when ready,release,never is present perhaps?\n",
    "\n",
    "\n",
    "for outercard in cardnames: #changed from cardnames to cardlist\n",
    "    #cur.execute(\"\"\"SELECT id,title,cardset FROM public.transactions WHERE cardname=%s AND possiblybad is FALSE AND othercards IS NOT NULL\"\"\",(outercard[0],))\n",
    "    cur.execute(\"\"\"SELECT id,title,cardset FROM public.transactions WHERE cardname=%s AND possiblybad IS FALSE AND carddate=%s\"\"\",(outercard[0],(yesterday).strftime('%Y-%m-%d')))\n",
    "    #cur.execute(\"\"\"SELECT id,title FROM public.transactions WHERE cardname=%s AND possiblybad IS FALSE AND othercards IS NULL\"\"\",(outercard[0],))\n",
    "    #cur.execute(\"\"\"SELECT id,title,cardset FROM public.transactions WHERE cardname=%s AND possiblybad IS FALSE and othercards IS NOT NULL AND cardset='HOU'\"\"\",(outercard[0],))\n",
    "    transactions=cur.fetchall()\n",
    "#     cur.execute(\"\"\"SELECT DISTINCT(printings) FROM public.cards WHERE name=%s\"\"\",(outercard[0],))\n",
    "#     cardprintings=cur.fetchall()\n",
    "#     cardstring=cardprintings[0][0]\n",
    "#     setlist=cardstring.split(\",\")\n",
    "#     innercards=set()\n",
    "#     for setname in setlist:\n",
    "#             cur.execute(\"\"\"SELECT DISTINCT(name) FROM public.cards WHERE rarity IN('mythic','rare') AND printings ILIKE %s AND setcode IN(SELECT code FROM public.sets WHERE type IN ('expansion','core') and releasedate>=(SELECT releasedate FROM public.sets WHERE mcmname='Return to Ravnica'))\"\"\",('%'+setname+'%',))\n",
    "#             tempcards=set(cur.fetchall())\n",
    "#             innercards=innercards.union(tempcards)\n",
    "    for transid,title,cardset in transactions:\n",
    "        othercards=''\n",
    "        cur.execute('''SELECT name FROM public.sets WHERE code=%s''',(cardset,))\n",
    "        fullsetname=cur.fetchall()\n",
    "        for innername in cardnames:\n",
    "            if innername[0]==outercard[0]:\n",
    "                pass\n",
    "            elif innername[0]=='Hour of Devastation' and cardset=='HOU':\n",
    "                pass\n",
    "            elif innername[0].lower() in title.lower() and innername[0].lower() not in outercard[0].lower():\n",
    "                if len(fullsetname)==0:   \n",
    "                    if othercards=='':\n",
    "                        othercards=innername[0]\n",
    "                    else:\n",
    "                        othercards+=\";\"+innername[0]\n",
    "                elif len(fullsetname)>0 and innername[0].lower() not in fullsetname[0][0].lower():\n",
    "                    if othercards=='':\n",
    "                        othercards=innername[0]\n",
    "                    else:\n",
    "                        othercards+=\";\"+innername[0]\n",
    "        if othercards!='':\n",
    "            cur.execute(\"\"\"UPDATE public.transactions SET othercards=%s WHERE id=%s\"\"\",(othercards,transid))\n",
    "        elif othercards=='':\n",
    "            cur.execute(\"\"\"UPDATE public.transactions SET othercards=%s WHERE id=%s\"\"\",(None,transid))\n",
    "    conn.commit()\n",
    "        "
   ]
  },
  {
   "cell_type": "code",
   "execution_count": 6,
   "metadata": {},
   "outputs": [],
   "source": [
    "cur.close()\n",
    "conn.close()"
   ]
  }
 ],
 "metadata": {
  "kernelspec": {
   "display_name": "Python 3",
   "language": "python",
   "name": "python3"
  },
  "language_info": {
   "codemirror_mode": {
    "name": "ipython",
    "version": 3
   },
   "file_extension": ".py",
   "mimetype": "text/x-python",
   "name": "python",
   "nbconvert_exporter": "python",
   "pygments_lexer": "ipython3",
   "version": "3.7.1"
  }
 },
 "nbformat": 4,
 "nbformat_minor": 2
}
